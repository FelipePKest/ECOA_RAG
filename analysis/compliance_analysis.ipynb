{
 "cells": [
  {
   "cell_type": "code",
   "execution_count": 1,
   "metadata": {},
   "outputs": [
    {
     "name": "stderr",
     "output_type": "stream",
     "text": [
      "USER_AGENT environment variable not set, consider setting it to identify your requests.\n",
      "c:\\Users\\felip\\OneDrive\\Área de Trabalho\\ECOA_RAG\\analysis\\document_database.py:27: LangChainDeprecationWarning: The class `Chroma` was deprecated in LangChain 0.2.9 and will be removed in 0.4. An updated version of the class exists in the langchain-chroma package and should be used instead. To use it run `pip install -U langchain-chroma` and import as `from langchain_chroma import Chroma`.\n",
      "  self.vectorstore = Chroma(\n",
      "c:\\Users\\felip\\anaconda3\\envs\\rag\\Lib\\site-packages\\langsmith\\client.py:5301: LangChainBetaWarning: The function `loads` is in beta. It is actively being worked on, so the API may change.\n",
      "  prompt = loads(json.dumps(prompt_object.manifest))\n"
     ]
    },
    {
     "name": "stdout",
     "output_type": "stream",
     "text": [
      "{'query': \"Quick question we have a broken redirection to the t&c's for the level up campaign but only on the onboarding page. How compliant are we if we fix it with the next release? \", 'llm': 'It is important to ensure that all terms and conditions are easily accessible to users at all times, including during the onboarding process. If the redirection to the terms and conditions is broken on the onboarding page, it may not be compliant with regulations or best practices.\\n\\nIt is recommended to fix the issue as soon as possible to ensure compliance with legal requirements and to provide users with the necessary information before they participate in the campaign. However, if it is not possible to fix the issue immediately, it is important to communicate this to users and provide alternative ways for them to access the terms and conditions, such as through a direct link or by including the information in the onboarding process itself.\\n\\nUltimately, the level of compliance will depend on the specific regulations and requirements applicable to your campaign and jurisdiction. It is always best to consult with legal counsel to ensure full compliance with all relevant laws and regulations.', 'rag': {'context': [], 'question': \"Quick question we have a broken redirection to the t&c's for the level up campaign but only on the onboarding page. How compliant are we if we fix it with the next release? \", 'answer': 'If the broken redirection to the terms and conditions for the level up campaign is fixed with the next release, the compliance will depend on how quickly the issue is resolved and if any users were affected during the time it was broken. It is important to ensure that the terms and conditions are easily accessible for users to review. It may be beneficial to communicate the issue and resolution to users to maintain transparency.'}}\n"
     ]
    }
   ],
   "source": [
    "from document_database import DocumentDatabase"
   ]
  },
  {
   "cell_type": "code",
   "execution_count": null,
   "metadata": {},
   "outputs": [],
   "source": [
    "# make a list of lists\n",
    "queries = [actualities, translation, objective]\n",
    "\n",
    "# loop through the list of lists\n",
    "for idx, q in enumerate(queries):\n",
    "    if idx == 0:\n",
    "        print(\" ------ Perguntas sobre Atualidades ------ \")\n",
    "    elif idx == 1:\n",
    "        print(\" ------ Perguntas que demonstram capacidade de tradução ------ \")\n",
    "    else:\n",
    "        print(\" ------ Perguntas com respostas objetivas ------\")\n",
    "    for ix, i in enumerate(q):\n",
    "        print(colored(f\"Query {ix+1}: \", attrs=[\"bold\"]) + colored(f\"{i}\", 'blue'))\n",
    "        print(colored(f\"    GPT(3.5-turbo)-Answer > \", attrs=[\"bold\"]) + colored(f\"{llm.invoke(i).content}\", 'yellow'))\n",
    "        print(colored(f\"    RAG-Answer > \", attrs=[\"bold\"]) + colored(f\"{rag_chain_with_source.invoke(i)['answer']}\", 'green'))\n",
    "        for idx, doc in enumerate(rag_chain_with_source.invoke(i)[\"context\"]):\n",
    "            print(colored(f\"        Document {idx+1}\", attrs=[\"bold\"]) + colored(f\": {doc.metadata['title']}\", 'blue'))\n",
    "        print(\"\\n\")"
   ]
  },
  {
   "cell_type": "markdown",
   "metadata": {},
   "source": []
  }
 ],
 "metadata": {
  "kernelspec": {
   "display_name": "rag",
   "language": "python",
   "name": "python3"
  },
  "language_info": {
   "codemirror_mode": {
    "name": "ipython",
    "version": 3
   },
   "file_extension": ".py",
   "mimetype": "text/x-python",
   "name": "python",
   "nbconvert_exporter": "python",
   "pygments_lexer": "ipython3",
   "version": "3.12.4"
  }
 },
 "nbformat": 4,
 "nbformat_minor": 2
}
