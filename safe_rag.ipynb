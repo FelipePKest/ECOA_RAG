{
 "cells": [
  {
   "cell_type": "code",
   "execution_count": 1,
   "id": "initial_id",
   "metadata": {
    "ExecuteTime": {
     "end_time": "2024-03-12T16:43:16.374456Z",
     "start_time": "2024-03-12T16:42:59.315350Z"
    },
    "collapsed": true
   },
   "outputs": [
    {
     "data": {
      "text/plain": [
       "True"
      ]
     },
     "execution_count": 1,
     "metadata": {},
     "output_type": "execute_result"
    }
   ],
   "source": [
    "\n",
    "from termcolor import colored\n",
    "from IPython.display import Markdown, display\n",
    "\n",
    "import bs4\n",
    "from langchain import hub\n",
    "from langchain.text_splitter import RecursiveCharacterTextSplitter\n",
    "from langchain_community.document_loaders import WebBaseLoader, SeleniumURLLoader, PDFPlumberLoader\n",
    "from langchain_community.vectorstores import Chroma\n",
    "from langchain_core.output_parsers import StrOutputParser\n",
    "from langchain_core.runnables import RunnablePassthrough, RunnableParallel\n",
    "from langchain_openai import ChatOpenAI, OpenAIEmbeddings\n",
    "\n",
    "import os\n",
    "from dotenv import load_dotenv\n",
    "load_dotenv()"
   ]
  },
  {
   "cell_type": "code",
   "execution_count": 2,
   "id": "ab22616501919855",
   "metadata": {
    "ExecuteTime": {
     "end_time": "2024-03-12T16:43:18.118042Z",
     "start_time": "2024-03-12T16:43:18.110750Z"
    },
    "collapsed": false
   },
   "outputs": [],
   "source": [
    "openai_key = os.getenv(\"OPENAI_API_KEY\")"
   ]
  },
  {
   "cell_type": "code",
   "execution_count": 3,
   "id": "fcda61361f54b2d3",
   "metadata": {
    "ExecuteTime": {
     "end_time": "2024-03-08T12:18:10.163872Z",
     "start_time": "2024-03-08T12:18:10.160839Z"
    },
    "collapsed": false
   },
   "outputs": [],
   "source": [
    "def printmd(string):\n",
    "    display(Markdown(string))"
   ]
  },
  {
   "cell_type": "markdown",
   "id": "c37f90b391c93798",
   "metadata": {
    "collapsed": false
   },
   "source": [
    "# RAG"
   ]
  },
  {
   "cell_type": "markdown",
   "id": "eb0ef297adb400f6",
   "metadata": {
    "collapsed": false
   },
   "source": [
    "## Loading web news data to the database"
   ]
  },
  {
   "cell_type": "markdown",
   "id": "095fe0dd",
   "metadata": {},
   "source": []
  },
  {
   "cell_type": "code",
   "execution_count": 4,
   "id": "e99ee6ed4f1cfd2a",
   "metadata": {
    "ExecuteTime": {
     "end_time": "2024-02-28T03:12:44.395328Z",
     "start_time": "2024-02-28T03:12:08.211802Z"
    },
    "collapsed": false
   },
   "outputs": [],
   "source": [
    "urls = [\"https://pt.wikipedia.org/wiki/Javier_Milei\",\n",
    "        \"https://www.cbsnews.com/news/super-bowl-winners-list-history/\",\n",
    "        \"https://ge.globo.com/futebol/times/corinthians/noticia/2024/02/16/corinthians-anuncia-a-contratacao-do-lateral-direito-matheuzinho.ghtml\",\n",
    "        \"https://ge.globo.com/futebol/times/botafogo/noticia/2024/02/16/luiz-henrique-do-botafogo-tem-lesao-na-panturrilha.ghtml\",\n",
    "        \"https://ge.globo.com/futebol/times/fluminense/noticia/2024/02/16/escalacao-do-fluminense-diniz-escala-reservas-contra-madureira-mas-tera-john-kennedy-e-douglas-costa.ghtml\",\n",
    "    \"https://www.lemonde.fr/football/article/2024/02/25/ligue-1-le-psg-arrache-le-nul-de-justesse-contre-rennes-monaco-remonte-sur-le-podium_6218528_1616938.html\",\n",
    "    \"https://ge.globo.com/futebol/futebol-internacional/futebol-frances/copa-da-franca/noticia/2024/02/27/perri-e-heroi-nos-penaltis-e-lyon-avanca-de-fase-na-copa-da-franca.ghtml\",\n",
    "    \"https://ge.globo.com/tenis/noticia/2024/02/27/joao-fonseca-sofre-com-condicoes-ruins-da-quadra-no-atp-santiago-e-e-eliminado.ghtml\",\n",
    "    \n",
    "]\n",
    "loader = SeleniumURLLoader(urls=urls)\n",
    "docs = loader.load()"
   ]
  },
  {
   "cell_type": "markdown",
   "id": "ee4a740f3515b616",
   "metadata": {
    "collapsed": false
   },
   "source": [
    "## Loading text from PDF using PyPDFLoader"
   ]
  },
  {
   "cell_type": "code",
   "execution_count": 16,
   "id": "1403ab48dbcb0360",
   "metadata": {
    "ExecuteTime": {
     "end_time": "2024-02-22T18:14:29.585747Z",
     "start_time": "2024-02-22T18:14:28.078104Z"
    },
    "collapsed": false
   },
   "outputs": [],
   "source": [
    "loader = PDFPlumberLoader(\"./pdfs/INSPECTION_REPORT.pdf\")\n",
    "docs = loader.load()"
   ]
  },
  {
   "cell_type": "code",
   "execution_count": 17,
   "id": "234c271671956e84",
   "metadata": {
    "ExecuteTime": {
     "end_time": "2024-02-22T18:14:32.995479Z",
     "start_time": "2024-02-22T18:14:32.966390Z"
    },
    "collapsed": false
   },
   "outputs": [
    {
     "data": {
      "text/plain": [
       "{'source': './pdfs/INSPECTION_REPORT.pdf',\n",
       " 'file_path': './pdfs/INSPECTION_REPORT.pdf',\n",
       " 'page': 7,\n",
       " 'total_pages': 8,\n",
       " 'Producer': 'GPL Ghostscript 9.26',\n",
       " 'CreationDate': \"D:20190417033156-07'00'\",\n",
       " 'ModDate': \"D:20190417033156-07'00'\",\n",
       " 'Author': '',\n",
       " 'Creator': '',\n",
       " 'Title': '',\n",
       " 'Subject': '',\n",
       " 'Keywords': '',\n",
       " 'project': 'Ghana Early Phase Gas Infrastructure Project',\n",
       " 'ref': 'JPP/HF-12/048',\n",
       " 'title': 'INSPECTION REPORT Nr LNP/BJ-12/048-CD01',\n",
       " 'client': 'Sinopec International Petroleum Service Company (SIPSC)',\n",
       " 'Manufacturer': 'SICHUAN KEYCON VALVE MANUFACTURING CO., LTD (KCON)',\n",
       " 'job_nr': 'LNP/BJ-12/048',\n",
       " 'inspection_date': '2013-1-27',\n",
       " 'inspection_location': 'Guanghan city, P. R. China',\n",
       " 'issue_date': '2013-2-3'}"
      ]
     },
     "execution_count": 17,
     "metadata": {},
     "output_type": "execute_result"
    }
   ],
   "source": [
    "for idx, doc in enumerate(docs):\n",
    "    # add project metadata\n",
    "    doc.metadata[\"project\"] = \"Ghana Early Phase Gas Infrastructure Project\"\n",
    "    doc.metadata[\"ref\"] = \"JPP/HF-12/048\"\n",
    "    doc.metadata[\"title\"] = \"INSPECTION REPORT Nr LNP/BJ-12/048-CD01\"\n",
    "    doc.metadata[\"client\"] = \"Sinopec International Petroleum Service Company (SIPSC)\"\n",
    "    doc.metadata[\"Manufacturer\"] = \"SICHUAN KEYCON VALVE MANUFACTURING CO., LTD (KCON)\"\n",
    "    doc.metadata[\"job_nr\"] = \"LNP/BJ-12/048\"\n",
    "    doc.metadata[\"inspection_date\"] = \"2013-1-27\"\n",
    "    doc.metadata[\"inspection_location\"] = \"Guanghan city, P. R. China\"\n",
    "    doc.metadata[\"issue_date\"] = \"2013-2-3\"\n",
    "    \n",
    "    # delete metadata\n",
    "    #del doc.metadata[\"Title\"]\n",
    "    \n",
    "docs[7].metadata"
   ]
  },
  {
   "cell_type": "code",
   "execution_count": 5,
   "id": "20ea0071fad80bfd",
   "metadata": {
    "ExecuteTime": {
     "end_time": "2024-02-28T03:13:24.927048Z",
     "start_time": "2024-02-28T03:13:24.909685Z"
    },
    "collapsed": false
   },
   "outputs": [],
   "source": [
    "# Splitting the documents\n",
    "text_splitter = RecursiveCharacterTextSplitter(chunk_size=1000, chunk_overlap=100)\n",
    "splits = text_splitter.split_documents(docs)"
   ]
  },
  {
   "cell_type": "code",
   "execution_count": 6,
   "id": "2aaac7462a3dabc",
   "metadata": {
    "ExecuteTime": {
     "end_time": "2024-02-28T03:13:41.406354Z",
     "start_time": "2024-02-28T03:13:32.578887Z"
    },
    "collapsed": false
   },
   "outputs": [],
   "source": [
    "# save to disk\n",
    "vectorstore = Chroma.from_documents(documents=splits, embedding=OpenAIEmbeddings(), persist_directory=\"./chroma_db\")"
   ]
  },
  {
   "cell_type": "code",
   "execution_count": 3,
   "id": "b21efaa92efa7b0a",
   "metadata": {
    "ExecuteTime": {
     "end_time": "2024-03-12T16:44:18.077836Z",
     "start_time": "2024-03-12T16:43:27.502496Z"
    },
    "collapsed": false
   },
   "outputs": [
    {
     "data": {
      "text/plain": [
       "<langchain_community.vectorstores.chroma.Chroma at 0x10f5ea9d0>"
      ]
     },
     "execution_count": 3,
     "metadata": {},
     "output_type": "execute_result"
    }
   ],
   "source": [
    "# load from disk\n",
    "vectorstore = Chroma(persist_directory=\"./chroma_db\", embedding_function=OpenAIEmbeddings())\n",
    "vectorstore"
   ]
  },
  {
   "cell_type": "code",
   "execution_count": 4,
   "id": "d2dab9bf8e902664",
   "metadata": {
    "ExecuteTime": {
     "end_time": "2024-03-12T16:44:18.106241Z",
     "start_time": "2024-03-12T16:44:18.081082Z"
    },
    "collapsed": false
   },
   "outputs": [
    {
     "data": {
      "text/plain": [
       "190"
      ]
     },
     "execution_count": 4,
     "metadata": {},
     "output_type": "execute_result"
    }
   ],
   "source": [
    "vectorstore._collection.count()"
   ]
  },
  {
   "cell_type": "code",
   "execution_count": 41,
   "id": "ef09396826ea1c9c",
   "metadata": {
    "ExecuteTime": {
     "end_time": "2024-02-22T18:51:36.937660Z",
     "start_time": "2024-02-22T18:51:36.918826Z"
    },
    "collapsed": false
   },
   "outputs": [
    {
     "data": {
      "text/plain": [
       "11"
      ]
     },
     "execution_count": 41,
     "metadata": {},
     "output_type": "execute_result"
    }
   ],
   "source": [
    "collection = vectorstore.get(\n",
    "    where = {\n",
    "        \"ref\": \"JPP/HF-12/048\"\n",
    "    }\n",
    ")\n",
    "len(collection['ids'])"
   ]
  },
  {
   "cell_type": "code",
   "execution_count": 5,
   "id": "bfe035334add4410",
   "metadata": {
    "ExecuteTime": {
     "end_time": "2024-03-12T16:44:30.013047Z",
     "start_time": "2024-03-12T16:44:26.049340Z"
    },
    "collapsed": false
   },
   "outputs": [],
   "source": [
    "# RAG Chain\n",
    "# Retrieve and generate using the relevant snippets of the blog.\n",
    "retriever = vectorstore.as_retriever()\n",
    "prompt = hub.pull(\"rlm/rag-prompt\")\n",
    "llm = ChatOpenAI(model_name=\"gpt-3.5-turbo\", temperature=0)\n",
    "\n",
    "\n",
    "def format_docs(docs):\n",
    "    return \"\\n\\n\".join(doc.page_content for doc in docs)\n",
    "\n",
    "\n",
    "rag_chain_from_docs = (\n",
    "    RunnablePassthrough.assign(context=(lambda x: format_docs(x[\"context\"])))\n",
    "    | prompt\n",
    "    | llm\n",
    "    | StrOutputParser()\n",
    ")\n",
    "\n",
    "rag_chain_with_source = RunnableParallel(\n",
    "    {\"context\": retriever, \"question\": RunnablePassthrough()}\n",
    ").assign(answer=rag_chain_from_docs)"
   ]
  },
  {
   "cell_type": "markdown",
   "id": "ac70f465985f30a3",
   "metadata": {
    "collapsed": false
   },
   "source": [
    "# Multiple News Queries"
   ]
  },
  {
   "cell_type": "code",
   "execution_count": 14,
   "id": "141bff137fb2cdb6",
   "metadata": {
    "ExecuteTime": {
     "end_time": "2024-02-23T14:50:47.687035Z",
     "start_time": "2024-02-23T14:50:16.651549Z"
    },
    "collapsed": false
   },
   "outputs": [
    {
     "name": "stdout",
     "output_type": "stream",
     "text": [
      "Query 1: Quem é o atual presidente da Argentina?\n",
      "    RAG-Answer > O atual presidente da Argentina é Javier Milei, que assumiu o cargo em 10 de dezembro de 2023. Ele é um economista, político e professor argentino, líder do partido La Libertad Avanza. Milei foi eleito com 55,65% dos votos no segundo turno, tornando-se o presidente mais votado da história do país até então.\n",
      "    GPT-Answer > O atual presidente da Argentina é Alberto Fernández. Ele assumiu o cargo em 10 de dezembro de 2019.\n",
      "\n",
      "Query 2: Quem ganhou o Super Bowl 2024?\n",
      "    RAG-Answer > Os Kansas City Chiefs ganharam o Super Bowl 2024, derrotando o San Francisco 49ers por 25-22 na prorrogação. Este foi o quarto título do Super Bowl da franquia e o terceiro em cinco anos. Patrick Mahomes foi fundamental na vitória, conectando-se com Mecole Hardman para o touchdown da vitória.\n",
      "    GPT-Answer > Desculpe, mas não consigo fornecer informações em tempo real. Para descobrir quem ganhou o Super Bowl 2024, sugiro que você verifique os resultados em um site confiável de esportes ou em uma fonte de notícias atualizada.\n",
      "\n",
      "Query 3: Quem é o jogador novo do Corinthians?\n",
      "    RAG-Answer > O jogador novo do Corinthians é o lateral-direito Matheuzinho, de 23 anos, que foi contratado após uma longa novela com o Flamengo. O clube adquiriu 60% dos direitos econômicos do jogador por 4 milhões de euros. Matheuzinho assinou contrato com o Timão até o fim de 2028 e já teve sua documentação regularizada na CBF.\n",
      "    GPT-Answer > O jogador novo do Corinthians é o atacante Roger Guedes, que foi contratado pelo clube em agosto de 2021. Ele chegou ao time para reforçar o setor ofensivo e já estreou com a camisa alvinegra em partidas do Campeonato Brasileiro.\n",
      "\n",
      "Query 4: Quem é o jogador Botafoguense que se contundiu recenteente?\n",
      "    RAG-Answer > Luiz Henrique, do Botafogo, se contundiu recentemente com uma lesão na panturrilha esquerda. Ele passou por exames que identificaram o problema após a vitória sobre o Volta Redonda. O jogador não terá condições de ficar à disposição para o clássico contra o Vasco.\n",
      "    GPT-Answer > O jogador botafoguense que se contundiu recentemente foi o atacante Pedro Castro. Ele sofreu uma lesão no joelho durante um treinamento e precisará passar por cirurgia para se recuperar.\n",
      "\n",
      "Query 5: Qual a formação usada no Fluminense no jogo contra o Madureira?\n",
      "    RAG-Answer > Não sei.\n",
      "    GPT-Answer > No jogo contra o Madureira, o Fluminense utilizou a formação tática 4-2-3-1, com a seguinte escalação:\n",
      "\n",
      "- Goleiro: Marcos Felipe\n",
      "- Defensores: Calegari, Nino, Luccas Claro e Egídio\n",
      "- Meio-campistas: Martinelli, Yago e Nenê\n",
      "- Atacantes: Luiz Henrique, Fred e Kayky\n",
      "\n",
      "Essa formação permitiu ao Fluminense ter uma boa organização defensiva e ao mesmo tempo oferecer opções de ataque pelos lados e pelo centro do campo.\n",
      "\n",
      "Query 6: Quem é o novo reforço do Fluminense?\n",
      "    RAG-Answer > O novo reforço do Fluminense é o lateral-direito Matheuzinho, de 23 anos, que foi confirmado pelo Corinthians após uma longa negociação com o Flamengo. Matheuzinho assinou contrato com o Timão até o fim de 2028, com multa rescisória de R$ 300 milhões para o mercado nacional e 100 milhões de euros para clubes do exterior. Ele já teve sua documentação regularizada na CBF e pode ser relacionado para o próximo jogo do Corinthians.\n",
      "    GPT-Answer > O novo reforço do Fluminense é o atacante Abel Hernández, que foi anunciado pelo clube em janeiro de 2021. Ele chega para reforçar o setor ofensivo da equipe tricolor.\n",
      "\n",
      "Query 7: Qual a nova resulução sobre 'saidinhas' de presos?\n",
      "    RAG-Answer > O projeto de lei que está sendo votado no Senado propõe acabar com as \"saidinhas\" de presos em feriados e datas comemorativas, permitindo apenas saídas para estudo ou trabalho externo. Especialistas argumentam que essa medida pode atrapalhar a ressocialização dos detentos. A proposta tem sido criticada por estudiosos do segmento.\n",
      "    GPT-Answer > A nova resolução sobre 'saidinhas' de presos determina que os detentos que cumprem pena em regime semiaberto terão direito a até cinco saídas temporárias por ano, com duração máxima de sete dias cada. Além disso, a resolução estabelece critérios mais rígidos para a concessão das 'saidinhas', como bom comportamento e cumprimento de requisitos específicos. Essa medida visa garantir maior segurança à sociedade e evitar possíveis casos de reincidência por parte dos detentos.\n"
     ]
    }
   ],
   "source": [
    "query = [\"Quem é o atual presidente da Argentina?\",\n",
    "         \"Quem ganhou o Super Bowl 2024?\",\n",
    "         \"Quem é o jogador novo do Corinthians?\",\n",
    "         \"Quem é o jogador Botafoguense que se contundiu recenteente?\",\n",
    "         \"Qual a formação usada no Fluminense no jogo contra o Madureira?\",\n",
    "         \"Quem é o novo reforço do Fluminense?\",\n",
    "         \"Qual a nova resulução sobre 'saidinhas' de presos?\",\n",
    "         ]\n",
    "for idx, q in enumerate(query):\n",
    "    print(f\"Query {idx+1}: {q}\")\n",
    "    print(f\"    RAG-Answer > {rag_chain.invoke(q)}\\n\")\n",
    "    print(f\"    GPT-Answer > {llm.invoke(q).content}\\n\")\n",
    "    "
   ]
  },
  {
   "cell_type": "markdown",
   "id": "46f03030b0281298",
   "metadata": {
    "collapsed": false
   },
   "source": [
    "# Multiple PDF Queries"
   ]
  },
  {
   "cell_type": "code",
   "execution_count": 10,
   "id": "472296855a71359d",
   "metadata": {
    "ExecuteTime": {
     "end_time": "2024-02-23T14:27:28.541085Z",
     "start_time": "2024-02-23T14:25:57.169255Z"
    },
    "collapsed": false
   },
   "outputs": [
    {
     "name": "stdout",
     "output_type": "stream",
     "text": [
      "Query 1: What were the valves tests?\n",
      "    RAG-Answer > The valve tests included witnessing pressure testing, torque testing, anti-static testing, visual inspection, and more. The pressure testing results were acceptable according to API 6D standards. The tests were conducted to ensure the valves met the required specifications.\n",
      "    GPT-Answer > There are several tests that can be performed on valves to ensure they are functioning properly. Some common valve tests include:\n",
      "\n",
      "1. Pressure testing: This involves subjecting the valve to high pressure to check for leaks or other defects.\n",
      "\n",
      "2. Leakage testing: This test checks for any leakage of fluid through the valve when it is closed.\n",
      "\n",
      "3. Flow testing: This test measures the flow rate of fluid through the valve to ensure it is within the specified range.\n",
      "\n",
      "4. Functional testing: This test checks the overall functionality of the valve, including its ability to open and close properly.\n",
      "\n",
      "5. Material testing: This test checks the material composition of the valve to ensure it meets the required standards for strength and durability.\n",
      "\n",
      "6. Seat leakage testing: This test checks for any leakage of fluid through the valve seat when it is closed.\n",
      "\n",
      "7. Torque testing: This test measures the torque required to open and close the valve to ensure it is within the specified range.\n",
      "\n",
      "These tests are important for ensuring the safety and reliability of valves in various industrial applications.\n",
      "\n",
      "Query 2: When was the report issued?\n",
      "    RAG-Answer > The report was issued on February 3, 2013.\n",
      "    GPT-Answer > I'm sorry, but I would need more specific information about the report you are referring to in order to provide an accurate answer. Can you please provide more details or context?\n",
      "\n",
      "Query 3: what is the job number?\n",
      "    RAG-Answer > The job number is LNP/BJ-12/048.\n",
      "    GPT-Answer > The job number is a unique identifier assigned to a specific job or task within an organization. It is used to track and manage the progress of the job, as well as to reference and communicate about the job internally. The job number can vary depending on the organization's system of assigning numbers, but it is typically a combination of letters and/or numbers that uniquely identifies the job.\n",
      "\n",
      "Query 4: What was the result of the inspection?\n",
      "    RAG-Answer > The result of the inspection was deemed acceptable according to the project specification. There were no problems pending or areas of concern identified during the inspection. The documents reviewed were found to be acceptable.\n",
      "    GPT-Answer > The result of the inspection was that the building was found to be in compliance with all safety regulations and no violations were identified.\n",
      "\n",
      "Query 5: What is the ITP reference number?\n",
      "    RAG-Answer > The ITP reference number is CP12228KO.\n",
      "    GPT-Answer > The ITP reference number is a unique identifier assigned to an Individualized Transition Plan (ITP) for a student with disabilities. This number helps track and monitor the progress of the student's transition goals and services.\n",
      "\n",
      "Query 6: What was the scope of the Sinopec project?\n",
      "    RAG-Answer > The scope of the Sinopec project included witnessing pressure tests, torque tests, function tests, anti-static tests, visual inspections, dimension inspections, painting checks, and document reviews for 12\"-1500LB Top Entry Trunnion Ball Valves. The inspection results were acceptable according to the project specification. The project involved inspecting valves manufactured by SICHUAN KEYCON VALVE MANUFACTURING CO., LTD for the Ghana Early Phase Gas Infrastructure Project.\n",
      "    GPT-Answer > The scope of the Sinopec project was to construct a new petrochemical complex in China. This complex included the construction of various facilities such as refineries, chemical plants, storage tanks, and pipelines. The project also involved the installation of various equipment and infrastructure to support the operations of the complex. Additionally, the project included the development of environmental and safety measures to ensure compliance with regulations and standards.\n",
      "\n",
      "Query 7: How was the anti-static test performed?\n",
      "    RAG-Answer > The anti-static test was performed by KCON using a multimeter (12V) to test for values less than 10ohm. The actual values were about 0.4ohm, meeting the standard's requirements. The J-PECO inspector witnessed the entire anti-static testing process.\n",
      "    GPT-Answer > The anti-static test is typically performed by subjecting the material or object to a controlled static electricity discharge. This can be done using a specialized testing device that generates a static charge and measures the rate at which the charge dissipates from the material. The test may also involve rubbing the material with a known static charge and observing how quickly the charge is neutralized. The results of the test can indicate the effectiveness of the material in preventing the buildup and discharge of static electricity.\n",
      "\n",
      "Query 8: What is the standard of anti-static testing?\n",
      "    RAG-Answer > The standard for anti-static testing is a required value of less than 10ohm. The actual values obtained during testing were about 0.4ohm, which met the standard's requirements. The testing process involved the use of a multimeter (12V) to measure the resistance.\n",
      "    GPT-Answer > The standard for anti-static testing is typically defined by industry-specific guidelines and regulations, such as the American National Standards Institute (ANSI) or the International Electrotechnical Commission (IEC). These standards outline the procedures and requirements for testing the effectiveness of anti-static materials and equipment in preventing the buildup and discharge of static electricity. Common methods of anti-static testing include surface resistance testing, volume resistance testing, and static decay testing.\n"
     ]
    }
   ],
   "source": [
    "query = [\"What were the valves tests?\",\n",
    "         \"When was the report issued?\",\n",
    "         \"what is the job number?\",\n",
    "         \"What was the result of the inspection?\",\n",
    "         \"What is the ITP reference number?\",\n",
    "         \"What was the scope of the Sinopec project?\",\n",
    "         \"How was the anti-static test performed?\",\n",
    "         \"What is the standard of anti-static testing?\"\n",
    "         ]\n",
    "for idx, q in enumerate(query):\n",
    "    print(f\"Query {idx+1}: {q}\")\n",
    "    print(f\"    RAG-Answer > {rag_chain.invoke(q)}\\n\")\n",
    "    print(f\"    GPT-Answer > {llm.invoke(q).content}\\n\")"
   ]
  },
  {
   "cell_type": "code",
   "execution_count": null,
   "id": "9540a893557ce002",
   "metadata": {
    "collapsed": false
   },
   "outputs": [],
   "source": []
  },
  {
   "cell_type": "markdown",
   "id": "f37254489ab00b0b",
   "metadata": {
    "collapsed": false
   },
   "source": [
    "# Queries"
   ]
  },
  {
   "cell_type": "code",
   "execution_count": 7,
   "id": "4a05b9eef1306c4b",
   "metadata": {
    "ExecuteTime": {
     "end_time": "2024-03-12T16:44:41.775976Z",
     "start_time": "2024-03-12T16:44:41.770760Z"
    },
    "collapsed": false
   },
   "outputs": [],
   "source": [
    "# Perguntas sobre Atualidades\n",
    "actualities = [\"Quem é o atual presidente da Argentina?\",\n",
    "               \"Quais foram os feitos de Perri no Lyon?\",\n",
    "               \"Quem é o jogador novo do Corinthians?\",\n",
    "               \"Qual o grande problema do ATP Santiago?\",\n",
    "               ]"
   ]
  },
  {
   "cell_type": "code",
   "execution_count": 8,
   "id": "a30d858560bf2bd3",
   "metadata": {
    "ExecuteTime": {
     "end_time": "2024-03-12T16:44:42.174288Z",
     "start_time": "2024-03-12T16:44:42.170149Z"
    },
    "collapsed": false
   },
   "outputs": [],
   "source": [
    "# Perguntas que demonstram capacidade de tradução\n",
    "translation = [\"Quem ganhou o Super Bowl 2024?\",\n",
    "               \"Quanto foi o jogo PSG e Rennes?\",\n",
    "               \"Qual é o escopo do projeto da Sinopec?\"\n",
    "               ]"
   ]
  },
  {
   "cell_type": "code",
   "execution_count": 9,
   "id": "50e47dee628e9623",
   "metadata": {
    "ExecuteTime": {
     "end_time": "2024-03-12T16:44:43.545900Z",
     "start_time": "2024-03-12T16:44:43.542125Z"
    },
    "collapsed": false
   },
   "outputs": [],
   "source": [
    "# Perguntas com respostas objetivas\n",
    "objective = [\"Como foi realizado o teste antiestático?\",\n",
    "             \"Qual é o padrão de teste antiestático?\"\n",
    "             ]"
   ]
  },
  {
   "cell_type": "code",
   "execution_count": 11,
   "id": "a4567dd6d1bef9bf",
   "metadata": {
    "ExecuteTime": {
     "end_time": "2024-03-12T16:47:47.880624Z",
     "start_time": "2024-03-12T16:46:43.469855Z"
    },
    "collapsed": false
   },
   "outputs": [
    {
     "name": "stdout",
     "output_type": "stream",
     "text": [
      " ------ Perguntas sobre Atualidades ------ \n",
      "\u001b[1mQuery 1: \u001b[0m\u001b[34mQuem é o atual presidente da Argentina?\u001b[0m\n",
      "\u001b[1m    GPT(3.5-turbo)-Answer > \u001b[0m\u001b[33mO atual presidente da Argentina é Alberto Fernández. Ele assumiu o cargo em 10 de dezembro de 2019.\u001b[0m\n",
      "\u001b[1m    RAG-Answer > \u001b[0m\u001b[32mO atual presidente da Argentina é Javier Milei, que assumiu o cargo em 10 de dezembro de 2023. Ele é um economista, político e professor argentino, líder do partido La Libertad Avanza. Milei foi eleito com 55,65% dos votos no segundo turno, tornando-se o presidente mais votado da história do país até então.\u001b[0m\n",
      "\u001b[1m        Document 1\u001b[0m\u001b[34m: Javier Milei – Wikipédia, a enciclopédia livre\u001b[0m\n",
      "\u001b[1m        Document 2\u001b[0m\u001b[34m: Javier Milei – Wikipédia, a enciclopédia livre\u001b[0m\n",
      "\u001b[1m        Document 3\u001b[0m\u001b[34m: Javier Milei – Wikipédia, a enciclopédia livre\u001b[0m\n",
      "\u001b[1m        Document 4\u001b[0m\u001b[34m: Javier Milei – Wikipédia, a enciclopédia livre\u001b[0m\n",
      "\n",
      "\n",
      "\u001b[1mQuery 2: \u001b[0m\u001b[34mQuais foram os feitos de Perri no Lyon?\u001b[0m\n",
      "\u001b[1m    GPT(3.5-turbo)-Answer > \u001b[0m\u001b[33mPerri foi um jogador de futebol que atuou no Lyon durante a temporada 2000-2001. Durante sua passagem pelo clube, ele teve um desempenho discreto, não conseguindo se destacar ou conquistar títulos expressivos. Perri foi utilizado principalmente como reserva e não teve um impacto significativo no time durante sua passagem pelo Lyon.\u001b[0m\n",
      "\u001b[1m    RAG-Answer > \u001b[0m\u001b[32mPerri foi o herói do Lyon ao defender um pênalti na disputa de penalidades, garantindo a classificação do time para a semifinal da Copa da França. Ele foi decisivo na vitória por 4 a 3 nos pênaltis contra o Strasbourg. Após o empate sem gols no tempo normal, Perri se destacou e ajudou o Lyon a avançar na competição.\u001b[0m\n",
      "\u001b[1m        Document 1\u001b[0m\u001b[34m: Perri é herói nos pênaltis, e Lyon avança de fase na Copa da França | copa da frança | ge\u001b[0m\n",
      "\u001b[1m        Document 2\u001b[0m\u001b[34m: Perri é herói nos pênaltis, e Lyon avança de fase na Copa da França | copa da frança | ge\u001b[0m\n",
      "\u001b[1m        Document 3\u001b[0m\u001b[34m: Perri é herói nos pênaltis, e Lyon avança de fase na Copa da França | copa da frança | ge\u001b[0m\n",
      "\u001b[1m        Document 4\u001b[0m\u001b[34m: Javier Milei – Wikipédia, a enciclopédia livre\u001b[0m\n",
      "\n",
      "\n",
      "\u001b[1mQuery 3: \u001b[0m\u001b[34mQuem é o jogador novo do Corinthians?\u001b[0m\n",
      "\u001b[1m    GPT(3.5-turbo)-Answer > \u001b[0m\u001b[33mO jogador novo do Corinthians é o atacante Roger Guedes, que foi contratado pelo clube em agosto de 2021. Ele chegou ao time para reforçar o setor ofensivo e já estreou com a camisa alvinegra, mostrando bom desempenho nas primeiras partidas.\u001b[0m\n",
      "\u001b[1m    RAG-Answer > \u001b[0m\u001b[32mO jogador novo do Corinthians é o lateral-direito Matheuzinho, de 23 anos, que foi contratado após uma longa novela com o Flamengo. O clube adquiriu 60% dos direitos econômicos do jogador por 4 milhões de euros e assinou contrato com ele até o fim de 2028. Matheuzinho já teve sua documentação regularizada na CBF e pode ser relacionado para o próximo jogo do Corinthians.\u001b[0m\n",
      "\u001b[1m        Document 1\u001b[0m\u001b[34m: Corinthians anuncia a contratação do lateral-direito Matheuzinho | corinthians | ge\u001b[0m\n",
      "\u001b[1m        Document 2\u001b[0m\u001b[34m: Corinthians anuncia a contratação do lateral-direito Matheuzinho | corinthians | ge\u001b[0m\n",
      "\u001b[1m        Document 3\u001b[0m\u001b[34m: Corinthians anuncia a contratação do lateral-direito Matheuzinho | corinthians | ge\u001b[0m\n",
      "\u001b[1m        Document 4\u001b[0m\u001b[34m: Luiz Henrique, do Botafogo, tem lesão na panturrilha esquerda | botafogo | ge\u001b[0m\n",
      "\n",
      "\n",
      "\u001b[1mQuery 4: \u001b[0m\u001b[34mQual o grande problema do ATP Santiago?\u001b[0m\n",
      "\u001b[1m    GPT(3.5-turbo)-Answer > \u001b[0m\u001b[33mO grande problema do ATP Santiago é a falta de investimento e infraestrutura adequada para sediar um torneio de tênis de nível internacional. Isso inclui questões como a qualidade das quadras, instalações para os jogadores e espectadores, transporte e hospedagem, entre outros aspectos. Além disso, a competição enfrenta a concorrência de outros torneios da região, o que pode dificultar a atração de jogadores de alto nível e público.\u001b[0m\n",
      "\u001b[1m    RAG-Answer > \u001b[0m\u001b[32mO grande problema do ATP Santiago foi as condições ruins da quadra de saibro, que causaram quedas e dificultaram o jogo para os jogadores. João Fonseca sofreu com essas condições e foi eliminado, enquanto Thiago Wild conseguiu avançar às oitavas de final do torneio. O brasileiro reclamou das condições precárias da quadra, que também foram evidenciadas em vídeos nas redes sociais.\u001b[0m\n",
      "\u001b[1m        Document 1\u001b[0m\u001b[34m: João Fonseca sofre com condições ruins da quadra no ATP Santiago e é eliminado | tênis | ge\u001b[0m\n",
      "\u001b[1m        Document 2\u001b[0m\u001b[34m: João Fonseca sofre com condições ruins da quadra no ATP Santiago e é eliminado | tênis | ge\u001b[0m\n",
      "\u001b[1m        Document 3\u001b[0m\u001b[34m: João Fonseca sofre com condições ruins da quadra no ATP Santiago e é eliminado | tênis | ge\u001b[0m\n",
      "\u001b[1m        Document 4\u001b[0m\u001b[34m: João Fonseca sofre com condições ruins da quadra no ATP Santiago e é eliminado | tênis | ge\u001b[0m\n",
      "\n",
      "\n",
      " ------ Perguntas que demonstram capacidade de tradução ------ \n",
      "\u001b[1mQuery 1: \u001b[0m\u001b[34mQuem ganhou o Super Bowl 2024?\u001b[0m\n",
      "\u001b[1m    GPT(3.5-turbo)-Answer > \u001b[0m\u001b[33mDesculpe, mas não consigo fornecer informações em tempo real. Para descobrir quem ganhou o Super Bowl 2024, sugiro que você verifique os resultados mais recentes em um site esportivo confiável.\u001b[0m\n",
      "\u001b[1m    RAG-Answer > \u001b[0m\u001b[32mOs Kansas City Chiefs ganharam o Super Bowl 2024 contra os San Francisco 49ers em Las Vegas. Patrick Mahomes liderou os Chiefs para a vitória por 25-22 na prorrogação, conquistando o quarto título do Super Bowl na história da franquia.\u001b[0m\n",
      "\u001b[1m        Document 1\u001b[0m\u001b[34m: Super Bowl winners throughout history: Full list from 2024 all the way back to the first in 1967 - CBS News\u001b[0m\n",
      "\u001b[1m        Document 2\u001b[0m\u001b[34m: Super Bowl winners throughout history: Full list from 2024 all the way back to the first in 1967 - CBS News\u001b[0m\n",
      "\u001b[1m        Document 3\u001b[0m\u001b[34m: Super Bowl winners throughout history: Full list from 2024 all the way back to the first in 1967 - CBS News\u001b[0m\n",
      "\u001b[1m        Document 4\u001b[0m\u001b[34m: Super Bowl winners throughout history: Full list from 2024 all the way back to the first in 1967 - CBS News\u001b[0m\n",
      "\n",
      "\n",
      "\u001b[1mQuery 2: \u001b[0m\u001b[34mQuanto foi o jogo PSG e Rennes?\u001b[0m\n",
      "\u001b[1m    GPT(3.5-turbo)-Answer > \u001b[0m\u001b[33mO jogo entre PSG e Rennes terminou com a vitória do PSG por 3 a 0.\u001b[0m\n",
      "\u001b[1m    RAG-Answer > \u001b[0m\u001b[32mO jogo entre PSG e Rennes terminou empatado em 1 a 1. O PSG evitou a derrota ao marcar um gol nos acréscimos.\u001b[0m\n",
      "\u001b[1m        Document 1\u001b[0m\u001b[34m: Perri é herói nos pênaltis, e Lyon avança de fase na Copa da França | copa da frança | ge\u001b[0m\n",
      "\u001b[1m        Document 2\u001b[0m\u001b[34m: Perri é herói nos pênaltis, e Lyon avança de fase na Copa da França | copa da frança | ge\u001b[0m\n",
      "\u001b[1m        Document 3\u001b[0m\u001b[34m: Ligue 1 : le PSG arrache le nul de justesse contre Rennes, Monaco remonte sur le podium, Marseille se reprend\u001b[0m\n",
      "\u001b[1m        Document 4\u001b[0m\u001b[34m: Perri é herói nos pênaltis, e Lyon avança de fase na Copa da França | copa da frança | ge\u001b[0m\n",
      "\n",
      "\n",
      "\u001b[1mQuery 3: \u001b[0m\u001b[34mQual é o escopo do projeto da Sinopec?\u001b[0m\n",
      "\u001b[1m    GPT(3.5-turbo)-Answer > \u001b[0m\u001b[33mO escopo do projeto da Sinopec pode variar dependendo do projeto específico em questão. No entanto, geralmente envolve atividades relacionadas à exploração, produção, refino e distribuição de petróleo e gás natural, bem como a fabricação de produtos químicos e petroquímicos. Isso pode incluir a construção e operação de instalações de produção, refinarias, oleodutos e gasodutos, bem como a pesquisa e desenvolvimento de novas tecnologias e produtos. Além disso, a Sinopec também pode estar envolvida em projetos relacionados à energia renovável, como a produção de biocombustíveis e energia solar. Em resumo, o escopo do projeto da Sinopec abrange uma ampla gama de atividades relacionadas à indústria de energia e química.\u001b[0m\n",
      "\u001b[1m    RAG-Answer > \u001b[0m\u001b[32mO escopo do projeto da Sinopec inclui aumentar mecanismos de proteção aos acionistas minoritários, adequar normas brasileiras às recomendações internacionais e fortalecer o mercado financeiro e de capitais no Brasil. O projeto também busca melhorar as condições para obtenção de crédito e permitir a entrada de novas empresas no registro de ativos financeiros. O projeto está aguardando despacho do presidente da Câmara e ainda não possui relator.\u001b[0m\n",
      "\u001b[1m        Document 1\u001b[0m\u001b[34m: Entenda os 8 projetos defendidos pelo governo para alterações no sistema financeiro e mercado de capitais | Economia | G1\u001b[0m\n",
      "\u001b[1m        Document 2\u001b[0m\u001b[34m: Entenda os 8 projetos defendidos pelo governo para alterações no sistema financeiro e mercado de capitais | Economia | G1\u001b[0m\n",
      "\u001b[1m        Document 3\u001b[0m\u001b[34m: Entenda os 8 projetos defendidos pelo governo para alterações no sistema financeiro e mercado de capitais | Economia | G1\u001b[0m\n",
      "\u001b[1m        Document 4\u001b[0m\u001b[34m: Entenda os 8 projetos defendidos pelo governo para alterações no sistema financeiro e mercado de capitais | Economia | G1\u001b[0m\n",
      "\n",
      "\n",
      " ------ Perguntas com respostas objetivas ------\n",
      "\u001b[1mQuery 1: \u001b[0m\u001b[34mComo foi realizado o teste antiestático?\u001b[0m\n",
      "\u001b[1m    GPT(3.5-turbo)-Answer > \u001b[0m\u001b[33mO teste antiestático foi realizado utilizando um equipamento específico chamado medidor de resistência de superfície. Este equipamento mede a resistência elétrica de um material ou superfície, indicando se o mesmo é condutor ou isolante de eletricidade. Para realizar o teste, o medidor é colocado em contato com a superfície a ser testada e a leitura é feita para determinar se a mesma está dentro dos padrões de segurança antiestática. Em alguns casos, também pode ser utilizado um teste de atrito, onde um objeto é atritado com a superfície e observa-se se há acúmulo de carga estática.\u001b[0m\n",
      "\u001b[1m    RAG-Answer > \u001b[0m\u001b[32mO teste antiestático foi realizado com um multímetro de 12V, onde o valor necessário era inferior a 10ohm e o valor real foi de cerca de 0.4ohm, atendendo aos requisitos do padrão. O inspetor J-PECO testemunhou o processo de teste antiestático.\u001b[0m\n",
      "\u001b[1m        Document 1\u001b[0m\u001b[34m: INSPECTION REPORT Nr LNP/BJ-12/048-CD01\u001b[0m\n",
      "\u001b[1m        Document 2\u001b[0m\u001b[34m: Entenda os 8 projetos defendidos pelo governo para alterações no sistema financeiro e mercado de capitais | Economia | G1\u001b[0m\n",
      "\u001b[1m        Document 3\u001b[0m\u001b[34m: João Fonseca sofre com condições ruins da quadra no ATP Santiago e é eliminado | tênis | ge\u001b[0m\n",
      "\u001b[1m        Document 4\u001b[0m\u001b[34m: Para especialistas, acabar com 'saidinha' de presos em feriados atrapalha a ressocialização | Política | G1\u001b[0m\n",
      "\n",
      "\n",
      "\u001b[1mQuery 2: \u001b[0m\u001b[34mQual é o padrão de teste antiestático?\u001b[0m\n",
      "\u001b[1m    GPT(3.5-turbo)-Answer > \u001b[0m\u001b[33mO padrão de teste antiestático é o teste de resistência elétrica de superfícies e materiais, que é realizado de acordo com a norma ASTM D257. Este teste mede a resistência elétrica de um material ou superfície para determinar se ele é antiestático, dissipando a eletricidade estática de forma segura e eficaz.\u001b[0m\n",
      "\u001b[1m    RAG-Answer > \u001b[0m\u001b[32mO padrão de teste antiestático envolve a medição da resistência com um multímetro de 12V, com um valor requerido de menos de 10ohm. Os valores reais obtidos foram cerca de 0.4ohm, atendendo aos requisitos padrão. O teste foi testemunhado por um inspetor da J-PECO.\u001b[0m\n",
      "\u001b[1m        Document 1\u001b[0m\u001b[34m: INSPECTION REPORT Nr LNP/BJ-12/048-CD01\u001b[0m\n",
      "\u001b[1m        Document 2\u001b[0m\u001b[34m: Entenda os 8 projetos defendidos pelo governo para alterações no sistema financeiro e mercado de capitais | Economia | G1\u001b[0m\n",
      "\u001b[1m        Document 3\u001b[0m\u001b[34m: Entenda os 8 projetos defendidos pelo governo para alterações no sistema financeiro e mercado de capitais | Economia | G1\u001b[0m\n",
      "\u001b[1m        Document 4\u001b[0m\u001b[34m: Entenda os 8 projetos defendidos pelo governo para alterações no sistema financeiro e mercado de capitais | Economia | G1\u001b[0m\n"
     ]
    }
   ],
   "source": [
    "# make a list of lists\n",
    "queries = [actualities, translation, objective]\n",
    "\n",
    "# loop through the list of lists\n",
    "for idx, q in enumerate(queries):\n",
    "    if idx == 0:\n",
    "        print(\" ------ Perguntas sobre Atualidades ------ \")\n",
    "    elif idx == 1:\n",
    "        print(\" ------ Perguntas que demonstram capacidade de tradução ------ \")\n",
    "    else:\n",
    "        print(\" ------ Perguntas com respostas objetivas ------\")\n",
    "    for ix, i in enumerate(q):\n",
    "        print(colored(f\"Query {ix+1}: \", attrs=[\"bold\"]) + colored(f\"{i}\", 'blue'))\n",
    "        print(colored(f\"    GPT(3.5-turbo)-Answer > \", attrs=[\"bold\"]) + colored(f\"{llm.invoke(i).content}\", 'yellow'))\n",
    "        print(colored(f\"    RAG-Answer > \", attrs=[\"bold\"]) + colored(f\"{rag_chain_with_source.invoke(i)['answer']}\", 'green'))\n",
    "        for idx, doc in enumerate(rag_chain_with_source.invoke(i)[\"context\"]):\n",
    "            print(colored(f\"        Document {idx+1}\", attrs=[\"bold\"]) + colored(f\": {doc.metadata['title']}\", 'blue'))\n",
    "        print(\"\\n\")"
   ]
  },
  {
   "cell_type": "markdown",
   "id": "150d77e68270b62d",
   "metadata": {
    "collapsed": false
   },
   "source": [
    "# Single Queries"
   ]
  },
  {
   "cell_type": "code",
   "execution_count": 12,
   "id": "20b420ff9ab1e081",
   "metadata": {
    "ExecuteTime": {
     "end_time": "2024-03-12T18:13:45.581634Z",
     "start_time": "2024-03-12T18:13:42.442785Z"
    },
    "collapsed": false
   },
   "outputs": [
    {
     "name": "stdout",
     "output_type": "stream",
     "text": [
      "\u001b[1mQuery >\u001b[0m\u001b[34m Qual o Kcon serial number for the gear operator?\n",
      "\u001b[0m\n",
      "\u001b[1mGPT(3.5-turbo)-Answer > \u001b[0m\u001b[33mO número de série do Kcon para o operador de engrenagens pode variar de acordo com o modelo específico do equipamento. Recomenda-se verificar o manual do usuário ou entrar em contato com o fabricante para obter informações precisas sobre o número de série do equipamento.\n",
      "\u001b[0m\n",
      "\u001b[1mRAG-Answer >\u001b[0m\u001b[32m I don't know.\u001b[0m\n",
      "\u001b[1m    Document 1\u001b[0m\u001b[34m: INSPECTION REPORT Nr LNP/BJ-12/048-CD01\u001b[0m\n",
      "\u001b[1m    Document 2\u001b[0m\u001b[34m: INSPECTION REPORT Nr LNP/BJ-12/048-CD01\u001b[0m\n",
      "\u001b[1m    Document 3\u001b[0m\u001b[34m: INSPECTION REPORT Nr LNP/BJ-12/048-CD01\u001b[0m\n",
      "\u001b[1m    Document 4\u001b[0m\u001b[34m: INSPECTION REPORT Nr LNP/BJ-12/048-CD01\u001b[0m\n"
     ]
    }
   ],
   "source": [
    "q = \"Qual o Kcon serial number for the gear operator?\"\n",
    "res = rag_chain_with_source.invoke(q)\n",
    "print(colored(f\"Query >\", attrs=['bold']) + colored(f\" {q}\\n\", 'blue'))\n",
    "print(colored(f\"GPT(3.5-turbo)-Answer > \", attrs=['bold']) + colored(f\"{llm.invoke(q).content}\\n\", 'yellow'))\n",
    "print(colored(f\"RAG-Answer >\", attrs=['bold']) + colored(f\" {res['answer']}\", 'green'))\n",
    "for idx, doc in enumerate(res[\"context\"]):\n",
    "    print(colored(f\"    Document {idx+1}\", attrs=['bold']) + colored(f\": {doc.metadata['title']}\", 'blue'))\n"
   ]
  },
  {
   "cell_type": "code",
   "execution_count": null,
   "id": "95647d6c61711b8a",
   "metadata": {
    "collapsed": false
   },
   "outputs": [],
   "source": []
  }
 ],
 "metadata": {
  "kernelspec": {
   "display_name": "Python 3",
   "language": "python",
   "name": "python3"
  },
  "language_info": {
   "codemirror_mode": {
    "name": "ipython",
    "version": 3
   },
   "file_extension": ".py",
   "mimetype": "text/x-python",
   "name": "python",
   "nbconvert_exporter": "python",
   "pygments_lexer": "ipython3",
   "version": "3.9.18"
  }
 },
 "nbformat": 4,
 "nbformat_minor": 5
}
